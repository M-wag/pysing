{
 "cells": [
  {
   "cell_type": "code",
   "execution_count": 94,
   "metadata": {},
   "outputs": [
    {
     "data": {
      "image/png": "[encoded data removed]",
      "text/plain": [
       "<Figure size 640x480 with 1 Axes>"
      ]
     },
     "metadata": {},
     "output_type": "display_data"
    }
   ],
   "source": [
    "%reset -f \n",
    "\n",
    "import numpy as np\n",
    "import scipy.sparse as sp\n",
    "import matplotlib.pyplot as plt\n",
    "\n",
    "# Set the random seed for reproducibility\n",
    "np.random.seed(1)\n",
    "\n",
    "n = 20  # number of spins\n",
    "Jth = 0.1  # Jth sets the size of the random threshold values th\n",
    "full_network = False  # Toggle between full and sparse Ising network\n",
    "\n",
    "if full_network:\n",
    "    # Full weight matrix\n",
    "    J0 = 0  # J0 and J are as defined for the SK model\n",
    "    J = 0.5\n",
    "    w = J0/n + J/np.sqrt(n) * np.random.randn(n, n)\n",
    "    w = np.triu(w, 1)  # Keep upper triangular part\n",
    "    w += w.T  # Make the matrix symmetric\n",
    "    c = ~(w == 0)  # Neighborhood graph fully connected\n",
    "else:\n",
    "    # Sparse weight matrix\n",
    "    c1 = 0.5  # Connectivity is the approximate fraction of non-zero links in the random graph on n spins\n",
    "    beta = 0.5\n",
    "    w = sp.rand(n, n, density=c1, format='csr')\n",
    "    w.data = np.random.choice([-beta, beta], size=w.nnz)  # Assign +/-beta randomly to non-zero links\n",
    "    w = (w + w.T) / 2  # Make the matrix symmetric\n",
    "    c = ~(w.toarray() == 0)  # Sparse 0,1 neighborhood graph\n",
    "\n",
    "th = np.random.randn(n) * Jth\n",
    "\n",
    "plt.imshow(w.toarray(), cmap='gray')\n",
    "# Exact\n",
    "def s_all(n):\n",
    "    \"\"\"Generate all 2^n spin configurations for n spins.\"\"\"\n",
    "    return np.array(np.meshgrid(*[[1, -1]] * n)).T.reshape(-1, n)\n",
    "\n",
    "# Get energy for all spin configurations\n",
    "sa = s_all(n)  # All 2^n spin configurations\n",
    "Ea = 0.5 * np.sum(sa * (w @ sa.T).T, axis=1) + sa @ th  # Energies of all 2^n configurations\n",
    "Ea = np.exp(Ea)\n",
    "Z = np.sum(Ea)\n",
    "p_ex = Ea / Z  # Probabilities of all 2^n configurations\n",
    "\n",
    "# Get mean values and correlations\n",
    "m_ex = sa.T @ p_ex  # Exact mean values of n spins\n",
    "klad = (p_ex[:, None] * sa)\n",
    "chi_ex = sa.T @ klad - np.outer(m_ex, m_ex)  # Exact connected correlations\n"
   ]
  },
  {
   "cell_type": "code",
   "execution_count": 91,
   "metadata": {},
   "outputs": [
    {
     "name": "stdout",
     "output_type": "stream",
     "text": [
      "0.9999966287987031\n"
     ]
    }
   ],
   "source": [
    "%reset -f \n",
    "import numpy as np\n",
    "import itertools\n",
    "import matplotlib.pyplot as plt\n",
    "\n",
    "# Hamiltonian\n",
    "def H(spin_state, couplings):\n",
    "    pairs = np.array(list(itertools.product(range(0, len([1, 2, 3])), repeat=2)))\n",
    "    energy = 0\n",
    "    for m, n in pairs:\n",
    "        energy += 0.5 * couplings[(m, n)] * spin_state[m] * spin_state[n]\n",
    "    return energy\n",
    "\n",
    "def P_spin(Z, spin_state, couplings, beta):\n",
    "    return 1 / Z  * np.exp(beta * H(spin_state, couplings))\n",
    "P = {'spin' : P_spin}\n",
    "\n",
    "def get_Z(spin_states, couplings, beta):\n",
    "    return np.sum([np.exp(-beta * H(state, couplings)) for state in spin_states] )\n",
    "        \n",
    "def make_symmetric(matrix):\n",
    "    return np.triu(matrix, 1) + np.triu(matrix, 1).T\n",
    "\n",
    "def get_couplings(J0, J, n):\n",
    "    mean = J0 / n\n",
    "    std = J / np.sqrt(n)\n",
    "    # randn samples from normal distribution\n",
    "    return make_symmetric(mean + std * np.random.randn(n, n))\n",
    "\n",
    "\n",
    "def main():\n",
    "    # Params\n",
    "    n = 10\n",
    "    beta = 0.1\n",
    "    J0 = 0 \n",
    "    J = 0.5\n",
    "    # Get probablity\n",
    "    spin_state_space = np.array(list(itertools.product([-1 ,1], repeat=n)))\n",
    "    couplings = get_couplings(J0, J, n)\n",
    "    Z = get_Z(spin_state_space, couplings, beta)\n",
    "    ps_state = [P['spin'](Z, spin_state, couplings, beta) for spin_state in spin_state_space]\n",
    "\n",
    "    # Get exact spin expectation\n",
    "\n",
    "\n",
    "\n",
    "main()\n"
   ]
  },
  {
   "cell_type": "code",
   "execution_count": 77,
   "metadata": {},
   "outputs": [
    {
     "data": {
      "text/plain": [
       "<function RandomState.randn>"
      ]
     },
     "execution_count": 77,
     "metadata": {},
     "output_type": "execute_result"
    }
   ],
   "source": [
    "np.random.randn"
   ]
  },
  {
   "cell_type": "code",
   "execution_count": 76,
   "metadata": {},
   "outputs": [
    {
     "data": {
      "text/plain": [
       "8"
      ]
     },
     "execution_count": 76,
     "metadata": {},
     "output_type": "execute_result"
    },
    {
     "data": {
      "image/png": "[encoded data removed]",
      "text/plain": [
       "<Figure size 640x480 with 1 Axes>"
      ]
     },
     "metadata": {},
     "output_type": "display_data"
    }
   ],
   "source": [
    "%reset -f \n",
    "\n",
    "import scipy\n",
    "import numpy as np\n",
    "import matplotlib.pyplot as plt\n",
    "\n",
    "n = 10\n",
    "# Make spare random matrix\n",
    "mat = scipy.sparse.rand(10, 10, density=0.1)\n",
    "# Make it symmetric\n",
    "mat = scipy.sparse.triu(mat) \n",
    "mat += mat.T\n",
    "\n",
    "plt.imshow(mat.toarray(), cmap='gray')\n",
    "\n",
    "mat.nnz\n"
   ]
  },
  {
   "cell_type": "code",
   "execution_count": null,
   "metadata": {},
   "outputs": [],
   "source": []
  }
 ],
 "metadata": {
  "kernelspec": {
   "display_name": "jax",
   "language": "python",
   "name": "python3"
  },
  "language_info": {
   "codemirror_mode": {
    "name": "ipython",
    "version": 3
   },
   "file_extension": ".py",
   "mimetype": "text/x-python",
   "name": "python",
   "nbconvert_exporter": "python",
   "pygments_lexer": "ipython3",
   "version": "3.11.5"
  }
 },
 "nbformat": 4,
 "nbformat_minor": 2
}
