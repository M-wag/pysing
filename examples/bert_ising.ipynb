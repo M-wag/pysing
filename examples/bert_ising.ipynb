{
 "cells": [
  {
   "cell_type": "code",
   "execution_count": 139,
   "metadata": {},
   "outputs": [
    {
     "name": "stdout",
     "output_type": "stream",
     "text": [
      "1792.2829287008435\n",
      "[ 0.02886567 -0.07421539 -0.00044617 -0.06755969  0.07287211  0.12392026\n",
      " -0.21263357 -0.12287874 -0.09281523  0.02934532]\n"
     ]
    },
    {
     "data": {
      "image/png": "[encoded data removed]",
      "text/plain": [
       "<Figure size 640x480 with 1 Axes>"
      ]
     },
     "metadata": {},
     "output_type": "display_data"
    }
   ],
   "source": [
    "%reset -f \n",
    "import numpy as np\n",
    "import matplotlib.pyplot as plt\n",
    "import scipy.sparse as sp\n",
    "\n",
    "# Set the random seed for reproducibility\n",
    "# np.random.seed(1)\n",
    "\n",
    "n = 10  # number of spins\n",
    "Jth = 0.1  # Jth sets the size of the random threshold values th\n",
    "full_network = True  # Toggle between full and sparse Ising network\n",
    "\n",
    "if full_network:\n",
    "    # Full weight matrix\n",
    "    J0 = 0  # J0 and J are as defined for the SK model\n",
    "    J = 0.5\n",
    "    w = J0/n + J/np.sqrt(n) * np.random.randn(n, n)\n",
    "    w = np.triu(w, 1)  # Keep upper triangular part\n",
    "    w += w.T  # Make the matrix symmetric\n",
    "    c = ~(w == 0)  # Neighborhood graph fully connected\n",
    "else:\n",
    "    # Sparse weight matrix\n",
    "    c1 = 0.5  # Connectivity is the approximate fraction of non-zero links in the random graph on n spins\n",
    "    beta = 0.5\n",
    "    w = sp.rand(n, n, density=c1, format='csr')\n",
    "    w.data = np.random.choice([-beta, beta], size=w.nnz)  # Assign +/-beta randomly to non-zero links\n",
    "    w = (w + w.T) / 2  # Make the matrix symmetric\n",
    "    c = ~(w.toarray() == 0)  # Sparse 0,1 neighborhood graph\n",
    "\n",
    "th = np.random.randn(n) * Jth\n",
    "# Exact\n",
    "def s_all(n):\n",
    "    \"\"\"Generate all 2^n spin configurations for n spins.\"\"\"\n",
    "    return np.array(np.meshgrid(*[[1, -1]] * n)).T.reshape(-1, n)\n",
    "\n",
    "# Get energy for all spin configurations\n",
    "sa = s_all(n)  # All 2^n spin configurations\n",
    "Ea = 0.5 * np.sum(sa * (w @ sa.T).T, axis=1) + sa @ th  # Energies of all 2^n configurations\n",
    "Ea = np.exp(Ea)\n",
    "plt.imshow(w, cmap='gray', vmin=-1, vmax=1)\n",
    "Z = np.sum(Ea)\n",
    "print(Z)\n",
    "p_ex = Ea / Z  # Probabilities of all 2^n configurations\n",
    "\n",
    "# Get mean values and correlations\n",
    "m_ex = sa.T @ p_ex  # Exact mean values of n spins\n",
    "print(m_ex)\n",
    "klad = (p_ex[:, None] * sa)\n",
    "chi_ex = sa.T @ klad - np.outer(m_ex, m_ex)  # Exact connected correlations\n"
   ]
  }
 ],
 "metadata": {
  "kernelspec": {
   "display_name": "jax",
   "language": "python",
   "name": "python3"
  },
  "language_info": {
   "codemirror_mode": {
    "name": "ipython",
    "version": 3
   },
   "file_extension": ".py",
   "mimetype": "text/x-python",
   "name": "python",
   "nbconvert_exporter": "python",
   "pygments_lexer": "ipython3",
   "version": "3.11.5"
  }
 },
 "nbformat": 4,
 "nbformat_minor": 2
}
