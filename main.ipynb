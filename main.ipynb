{
 "cells": [
  {
   "cell_type": "code",
   "execution_count": 73,
   "metadata": {},
   "outputs": [],
   "source": [
    "%reset -f \n",
    "import numpy as np\n",
    "import itertools\n",
    "import matplotlib.pyplot as plt\n",
    "\n",
    "\n",
    "def H(states, couplings, field=None):\n",
    "    if field is None:\n",
    "        field = np.zeros(states.shape[1])\n",
    "    E_states = 0.5 * np.sum(states * (couplings @ states.T).T, axis=1) + states @ field\n",
    "    return E_states\n",
    "\n",
    "def make_symmetric(matrix):\n",
    "    return np.triu(matrix, 1) + np.triu(matrix, 1).T\n",
    "\n",
    "def get_couplings(J0, J, n):\n",
    "    mean = J0 / n\n",
    "    std = J / np.sqrt(n)\n",
    "    # randn samples from normal distribution\n",
    "    return make_symmetric(mean + std * np.random.randn(n, n))\n",
    "\n",
    "def get_couplings(n_trials, n_spins, J0, Js):\n",
    "    assert len(Js.shape) == 1, \"J must be 1-D\"\n",
    "    mean = J0/n_spins\n",
    "    stds = Js/np.sqrt(n_spins)\n",
    "\n",
    "    weights_per_condition = np.zeros((n_trials, len(Js), n_spins, n_spins))\n",
    "\n",
    "    # Fill the array with normally distributed random numbers\n",
    "    for i in range(n_trials):\n",
    "        for j, std in enumerate(stds):\n",
    "            weights_per_condition[i, j] = make_symmetric(np.random.normal(mean, std, (n_spins, n_spins)))\n",
    "\n",
    "    return weights_per_condition\n",
    "\n",
    "def RMSE(vec1, vec2):\n",
    "    vec1 = np.array(vec1) if isinstance(vec1, list) else vec1\n",
    "    vec2 = np.array(vec2) if isinstance(vec2, list) else vec2\n",
    "    assert np.array_equal(vec1.shape, vec2.shape), \"Input vectors must have same shape\"\n",
    "\n",
    "    return np.sqrt(np.mean((vec1 - vec2) ** 2))\n",
    "\n",
    "def exact(couplings:np.ndarray, field:np.ndarray):\n",
    "    # Get all random states\n",
    "    n_spins = couplings.shape[0]\n",
    "    spin_states = np.array(list(itertools.product([-1 ,1], repeat=n_spins)))\n",
    "    spin_energies = H(spin_states, couplings, field)\n",
    "    # Get energies and derive probablity\n",
    "    spin_energies = np.exp(spin_energies)\n",
    "    Z = np.sum(spin_energies)\n",
    "    spin_probs = spin_energies / Z\n",
    "    assert np.isclose(np.sum(spin_probs), 1), \"Spin state probablities should sum up to 1\"\n",
    "    # Returns spin expectations\n",
    "    spin_expts = spin_states.T @ spin_probs\n",
    "    return spin_expts\n",
    "\n",
    "def mf_approx(couplings:np.ndarray, field:np.ndarray, mf_convergence_threshold=1e-14):\n",
    "    n_spins = couplings.shape[0]\n",
    "    spin_means = np.random.uniform(-1, 1, n_spins)\n",
    "    indexes = np.array(range(spin_means.size))\n",
    "    max_diff_spin = 1e10\n",
    "    diffs_spin = []\n",
    "    while max_diff_spin > mf_convergence_threshold:\n",
    "        old_spin_means = np.copy(spin_means)\n",
    "        for i in indexes:\n",
    "            null_inxs = np.concatenate([indexes[:i], indexes[i+1:] ])\n",
    "            interaction = np.dot(spin_means[null_inxs], couplings[i, null_inxs])\n",
    "            spin_means[i] = np.tanh(interaction + field[i])\n",
    "        max_diff_spin = np.max(np.abs(old_spin_means - spin_means))\n",
    "        diffs_spin.append(max_diff_spin)\n",
    "    return spin_means, np.array(diffs_spin)\n",
    "\n",
    "def correlation(spins, couplings):\n",
    "    kronicker = -np.eye(spins.size) + 1\n",
    "    denominator = 1 - np.power(np.array([spins] * spins.size), 2).T\n",
    "    A_inverse = kronicker / denominator - couplings\n",
    "    return  np.linalg.inv(A_inverse)\n",
    "\n",
    "def main():\n",
    "    global betas\n",
    "    global RMSE_mean_mf\n",
    "\n",
    "    # Params\n",
    "    n_spins = 20\n",
    "    n_betas = 8\n",
    "    betas = np.linspace(0.1, 2, n_betas)\n",
    "    J0 = 0\n",
    "    J_field = 0.1\n",
    "    n_trials = 10\n",
    "\n",
    "    # Init couplings and field\n",
    "    couplings = get_couplings(n_trials, n_spins, J0, Js=betas) # (trials, betas, spins, spins)\n",
    "    fields = np.random.randn(n_trials, n_betas, n_spins) * J_field\n",
    "\n",
    "    # Compute RMS error in mean\n",
    "    RMSE_mean_mf = np.empty((n_trials, n_betas))\n",
    "    iters_mf = np.empty((n_trials, n_betas))\n",
    "\n",
    "    for i_trial in range(n_trials):\n",
    "        for i_beta in range(n_betas):\n",
    "            coupling, field = couplings[i_trial, i_beta], fields[i_trial, i_beta]\n",
    "            spin_expt_exact = exact(coupling, field)\n",
    "            spin_expt_mf, dm_mf = mf_approx(coupling, field)\n",
    "\n",
    "            RMSE_mean_mf[i_trial, i_beta] = RMSE(spin_expt_exact, spin_expt_mf)\n",
    "            iters_mf[i_trial, i_beta] = dm_mf.size\n",
    "    \n",
    "    plt.plot(betas, np.mean(iters_mf, axis=0))\n",
    "\n",
    "main()\n"
   ]
  },
  {
   "cell_type": "code",
   "execution_count": 64,
   "metadata": {},
   "outputs": [
    {
     "data": {
      "text/plain": [
       "Text(0, 0.5, '$RMSE_{mean}$')"
      ]
     },
     "execution_count": 64,
     "metadata": {},
     "output_type": "execute_result"
    },
    {
     "data": {
      "image/png": "[encoded data removed]",
      "text/plain": [
       "<Figure size 640x480 with 1 Axes>"
      ]
     },
     "metadata": {},
     "output_type": "display_data"
    }
   ],
   "source": [
    "fig_RMSE, ax_RMSE = plt.subplots()\n",
    "\n",
    "ax_RMSE.errorbar(betas, \n",
    "             np.mean(RMSE_mean_mf, axis=0),\n",
    "             yerr=np.std(RMSE_mean_mf, axis=0),\n",
    "             fmt='o-')\n",
    "ax_RMSE.grid(True)\n",
    "ax_RMSE.set_xlabel(r'$\\beta$')\n",
    "ax_RMSE.set_ylabel(r'$RMSE_{mean}$')"
   ]
  },
  {
   "cell_type": "code",
   "execution_count": 12,
   "metadata": {},
   "outputs": [],
   "source": [
    "def get_couplings(n_trials, stds, n_spins):\n",
    "    weights_per_condition = np.zeros((n_trials, len(stds), n_spins, n_spins))\n",
    "    # Fill the array with normally distributed random numbers\n",
    "    for i in range(n_trials):\n",
    "        for j, std in enumerate(stds):\n",
    "            weights_per_condition[i, j] = np.random.normal(0, stds, (n_spins, n_spins))\n",
    "    return weights_per_condition\n",
    "        \n",
    "            \n"
   ]
  },
  {
   "cell_type": "code",
   "execution_count": 21,
   "metadata": {},
   "outputs": [
    {
     "data": {
      "text/plain": [
       "(10, 100, 5, 5)"
      ]
     },
     "execution_count": 21,
     "metadata": {},
     "output_type": "execute_result"
    }
   ],
   "source": [
    "np.ones((100, 10, 5, 5)).transpose(1, 0, 2, 3).shape"
   ]
  },
  {
   "cell_type": "code",
   "execution_count": 308,
   "metadata": {},
   "outputs": [
    {
     "data": {
      "text/plain": [
       "<function __main__.check_phase_transition()>"
      ]
     },
     "execution_count": 308,
     "metadata": {},
     "output_type": "execute_result"
    }
   ],
   "source": [
    "def check_phase_transition():\n",
    "\n",
    "    n_spins = 15\n",
    "    n_betas = 10\n",
    "    J0 = 0\n",
    "    J = 0.5\n",
    "    J_field = 0.1\n",
    "    n_trials = 10\n",
    "\n",
    "    couplings = get_couplings(J0, J, n_spins) # shape=(combination, spi\n",
    "    Ts  = np.linspace(0.5, 5, 15)\n",
    "    field = np.random.randn(n_spins) * J_field \n",
    "    for row, T in enumerate(Ts):\n",
    "        # Get all random states\n",
    "        spin_states = np.array(list(itertools.product([-1 ,1], repeat=n_spins)))\n",
    "        spin_energies = H(spin_states, couplings, field)\n",
    "        spin_energies = np.exp(-1/T * spin_energies)\n",
    "\n",
    "        exact(n_spins, couplings, field, 1/T)\n",
    "\n",
    "\n",
    "check_phase_transition"
   ]
  },
  {
   "cell_type": "code",
   "execution_count": 301,
   "metadata": {},
   "outputs": [
    {
     "data": {
      "text/plain": [
       "<matplotlib.image.AxesImage at 0x7fa7be64cd10>"
      ]
     },
     "execution_count": 301,
     "metadata": {},
     "output_type": "execute_result"
    },
    {
     "data": {
      "image/png": "[encoded data removed]",
      "text/plain": [
       "<Figure size 640x480 with 1 Axes>"
      ]
     },
     "metadata": {},
     "output_type": "display_data"
    }
   ],
   "source": [
    "plt.imshow(get_couplings(J0=0, J=1, n=10))"
   ]
  },
  {
   "cell_type": "code",
   "execution_count": 34,
   "metadata": {},
   "outputs": [
    {
     "ename": "NameError",
     "evalue": "name 'RMSE_mean_mf' is not defined",
     "output_type": "error",
     "traceback": [
      "\u001b[0;31m---------------------------------------------------------------------------\u001b[0m",
      "\u001b[0;31mNameError\u001b[0m                                 Traceback (most recent call last)",
      "\u001b[1;32m/home/brandonc/Documents/school/assignments/AML/pysing/main.ipynb Cell 6\u001b[0m line \u001b[0;36m1\n\u001b[0;32m----> <a href='vscode-notebook-cell:/home/brandonc/Documents/school/assignments/AML/pysing/main.ipynb#W5sZmlsZQ%3D%3D?line=0'>1</a>\u001b[0m mean_RMSEmean_for_beta_mf \u001b[39m=\u001b[39m np\u001b[39m.\u001b[39mmean(RMSE_mean_mf, axis\u001b[39m=\u001b[39m\u001b[39m1\u001b[39m)\n\u001b[1;32m      <a href='vscode-notebook-cell:/home/brandonc/Documents/school/assignments/AML/pysing/main.ipynb#W5sZmlsZQ%3D%3D?line=1'>2</a>\u001b[0m std_RMSEmean_for_beta_mf \u001b[39m=\u001b[39m np\u001b[39m.\u001b[39mstd(RMSE_mean_mf, axis\u001b[39m=\u001b[39m\u001b[39m1\u001b[39m)\n\u001b[1;32m      <a href='vscode-notebook-cell:/home/brandonc/Documents/school/assignments/AML/pysing/main.ipynb#W5sZmlsZQ%3D%3D?line=2'>3</a>\u001b[0m mean_RMSEcorr_for_beta_mf \u001b[39m=\u001b[39m np\u001b[39m.\u001b[39mmean(RMSE_corr_mf, axis\u001b[39m=\u001b[39m\u001b[39m1\u001b[39m)\n",
      "\u001b[0;31mNameError\u001b[0m: name 'RMSE_mean_mf' is not defined"
     ]
    }
   ],
   "source": [
    "\n",
    "# mean_RMSEcorr_for_beta_mf = np.mean(RMSE_corr_mf, axis=1)\n",
    "# std_RMSEcorr_for_beta_mf = np.std(RMSE_corr_mf, axis=1)\n",
    "# iterations_across_beta_mf = np.mean(iterations_mf, axis=1)\n",
    "\n",
    "# fig_im, axes_im = plt.subplots(1, 2)\n",
    "# axes_im[0].imshow(RMSE_mean_mf)\n",
    "# axes_im[0].set_xlabel('trials')\n",
    "# axes_im[0].set_ylabel('betas')\n",
    "# axes_im[0].set_title(r'$RMS_{mean}$ per condition')\n",
    "# axes_im[1].imshow(RMSE_corr_mf)\n",
    "# axes_im[1].set_xlabel('trials')\n",
    "# axes_im[1].set_ylabel('betas')\n",
    "# axes_im[1].set_title(r'$RMS_{correlation}$ per condition')\n",
    "# fig_im.tight_layout()\n",
    "\n",
    "# fig, ax = plt.subplots(2, 1, sharex=True)\n",
    "# fig.suptitle(\"Change of mean and correlation for for differrenet beta\")\n",
    "# ax[0].errorbar(betas, mean_RMSEmean_for_beta_mf, yerr=std_RMSEmean_for_beta_mf, fmt='o')\n",
    "# ax[0].grid(True)\n",
    "# ax[0].set_xlabel(r'$\\beta$')\n",
    "# ax[0].set_ylabel(r'$RMS_{mean}$')\n",
    "\n",
    "# ax[1].errorbar(betas, mean_RMSEcorr_for_beta_mf, yerr=std_RMSEcorr_for_beta_mf, fmt='o')\n",
    "# ax[1].grid(True)\n",
    "# ax[1].set_xlabel(r'$\\beta$')\n",
    "# ax[1].set_ylabel(r'$RMS_{correlation}$')\n",
    "# fig.tight_layout()\n",
    "\n",
    "# fig_iter, ax_iter = plt.subplots()\n",
    "# ax_iter.plot(betas, iterations_across_beta_mf)\n",
    "\n"
   ]
  }
 ],
 "metadata": {
  "kernelspec": {
   "display_name": "jax",
   "language": "python",
   "name": "python3"
  },
  "language_info": {
   "codemirror_mode": {
    "name": "ipython",
    "version": 3
   },
   "file_extension": ".py",
   "mimetype": "text/x-python",
   "name": "python",
   "nbconvert_exporter": "python",
   "pygments_lexer": "ipython3",
   "version": "3.11.5"
  }
 },
 "nbformat": 4,
 "nbformat_minor": 2
}
