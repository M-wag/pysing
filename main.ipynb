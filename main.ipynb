{
 "cells": [
  {
   "cell_type": "code",
   "execution_count": 147,
   "metadata": {},
   "outputs": [],
   "source": [
    "%reset -f \n",
    "import numpy as np\n",
    "import itertools\n",
    "import matplotlib.pyplot as plt\n",
    "\n",
    "\n",
    "def H(states, couplings, field=None):\n",
    "    if field is None:\n",
    "        field = np.zeros(states.shape[1])\n",
    "    E_states = 0.5 * np.sum(states * (couplings @ states.T).T, axis=1) + states @ field\n",
    "    return E_states\n",
    "\n",
    "def make_symmetric(matrix):\n",
    "    return np.triu(matrix, 1) + np.triu(matrix, 1).T\n",
    "\n",
    "def get_couplings(J0, J, n):\n",
    "    mean = J0 / n\n",
    "    std = J / np.sqrt(n)\n",
    "    # randn samples from normal distribution\n",
    "    return make_symmetric(mean + std * np.random.randn(n, n))\n",
    "\n",
    "def RMSE(vec1, vec2):\n",
    "    vec1 = np.array(vec1) if isinstance(vec1, list) else vec1\n",
    "    vec2 = np.array(vec2) if isinstance(vec2, list) else vec2\n",
    "    assert len(vec1.shape) == 1 and len(vec2.shape) == 1, \"Ensure inputs are 1-D\"\n",
    "    assert np.array_equal(vec1.shape, vec2.shape), \"Input vectors must have same length\"\n",
    "\n",
    "    return np.sqrt(np.mean((vec1 - vec2) ** 2))\n",
    "\n",
    "def exact(n_spins:int, couplings:np.ndarray, field:np.ndarray, beta:int):\n",
    "    # Get all random states\n",
    "    spin_states = np.array(list(itertools.product([-1 ,1], repeat=n_spins)))\n",
    "    spin_energies = H(spin_states, couplings, field)\n",
    "    spin_energies = np.exp(-beta * spin_energies)\n",
    "    # Get energies and derive probablity\n",
    "    Z = np.sum(spin_energies)\n",
    "    spin_probs = spin_energies / Z\n",
    "    assert np.isclose(np.sum(spin_probs), 1), \"Spin state probablities should sum up to 1\"\n",
    "    # Returns spin expectations\n",
    "    spin_expts = spin_states.T @ spin_probs\n",
    "    return spin_expts\n",
    "\n",
    "def mf_approx(n_spins:int, couplings:np.ndarray, field:np.ndarray, mf_convergence_threshold=1e-13):\n",
    "    # spin_means = np.random.choice([-1, 1], n_spins) # start with random vector \n",
    "    spin_means = np.random.uniform(-1, 1, n_spins)\n",
    "    indexes = np.array(range(spin_means.size))\n",
    "    max_diff_spin = 1e10\n",
    "    while max_diff_spin > mf_convergence_threshold:\n",
    "        old_spin_means = np.copy(spin_means)\n",
    "        for i in indexes:\n",
    "            null_inxs = np.concatenate([indexes[:i], indexes[i+1:] ])\n",
    "            interaction = np.dot(spin_means[null_inxs], couplings[i, null_inxs])\n",
    "            spin_means[i] = np.tanh(interaction + field[i])\n",
    "        max_diff_spin = np.max(np.abs(old_spin_means - spin_means))\n",
    "    return spin_means\n",
    "\n",
    "def main():\n",
    "    # Params\n",
    "    n_spins = 20\n",
    "    n_betas = 10\n",
    "    betas = np.linspace(0.1, 2, n_betas)\n",
    "    J0 = 0\n",
    "    J = 0.5\n",
    "    J_field = 0.1\n",
    "    n_trials = 10\n",
    "\n",
    "    # Init couplings and random field\n",
    "    couplings = get_couplings(J0, J, n_spins) # shape=(combination, spi\n",
    "    fields = np.random.randn(n_trials, n_spins) * J_field \n",
    "\n",
    "    # Compute RMS error in mean\n",
    "    RMSE_mean_mf = np.empty((n_betas, n_trials))\n",
    "    # add correlation\n",
    "    for row, beta in enumerate(betas):\n",
    "        for col in range(n_trials):\n",
    "            # Same field is used within trial\n",
    "            # Different field is used between trials\n",
    "            spin_expc_mf = mf_approx(n_spins, couplings, fields[col, :])\n",
    "            spin_expc_exact = exact(n_spins, couplings, fields[col, :], beta) \n",
    "            RMSE_mean_mf[row, col] = RMSE(spin_expc_exact, spin_expc_mf)\n",
    "    \n",
    "    mean_RMSEmean_for_beta = np.mean(RMSE_mean_mf, axis=1)\n",
    "    std_RMSEmean_for_beta = np.std(RMSE_mean_mf, axis=1)\n",
    "\n",
    "    plt.imshow(RMSE_mean_mf)\n",
    "    plt.xlabel('trials')\n",
    "    plt.ylabel('betas')\n",
    "    plt.title(r'$RMS_{mean}$ per condition')\n",
    "\n",
    "    \n",
    "    fig, ax = plt.subplots()\n",
    "    ax.errorbar(betas, mean_RMSEmean_for_beta, yerr=std_RMSEmean_for_beta, fmt='o')\n",
    "    ax.grid(True)\n",
    "    ax.set_xlabel(r'$\\beta$')\n",
    "    ax.set_ylabel(r'$RMS_{mean}$')\n",
    "    \n",
    "main()"
   ]
  },
  {
   "cell_type": "code",
   "execution_count": 134,
   "metadata": {},
   "outputs": [
    {
     "data": {
      "text/plain": [
       "array([-0.03643315, -0.56423386, -0.34838709,  0.46023164,  0.94483631,\n",
       "        0.01720486, -0.16343777,  0.02557051, -0.1095862 , -0.15351259])"
      ]
     },
     "execution_count": 134,
     "metadata": {},
     "output_type": "execute_result"
    }
   ],
   "source": []
  },
  {
   "cell_type": "code",
   "execution_count": 99,
   "metadata": {},
   "outputs": [
    {
     "data": {
      "text/plain": [
       "0.2302966796998818"
      ]
     },
     "execution_count": 99,
     "metadata": {},
     "output_type": "execute_result"
    }
   ],
   "source": [
    "x = np.array([0.0927791,   0.07473064,  0.05305281, -0.30543898, -0.0713555,   0.02584735, 0.03215008, -0.15658999, -0.11486365])\n",
    "\n",
    "y = np.array([ 1, -1, -1, -1,  1,  1, -1, -1,  1,])\n",
    "np.tanh(np.dot(x, y))"
   ]
  },
  {
   "cell_type": "code",
   "execution_count": 67,
   "metadata": {},
   "outputs": [
    {
     "data": {
      "text/plain": [
       "0.09973425453266052"
      ]
     },
     "execution_count": 67,
     "metadata": {},
     "output_type": "execute_result"
    }
   ],
   "source": [
    "np.tanh(0.10006692516490)"
   ]
  },
  {
   "cell_type": "code",
   "execution_count": null,
   "metadata": {},
   "outputs": [],
   "source": []
  },
  {
   "cell_type": "code",
   "execution_count": null,
   "metadata": {},
   "outputs": [],
   "source": []
  },
  {
   "cell_type": "code",
   "execution_count": null,
   "metadata": {},
   "outputs": [],
   "source": []
  }
 ],
 "metadata": {
  "kernelspec": {
   "display_name": "jax",
   "language": "python",
   "name": "python3"
  },
  "language_info": {
   "codemirror_mode": {
    "name": "ipython",
    "version": 3
   },
   "file_extension": ".py",
   "mimetype": "text/x-python",
   "name": "python",
   "nbconvert_exporter": "python",
   "pygments_lexer": "ipython3",
   "version": "3.11.5"
  }
 },
 "nbformat": 4,
 "nbformat_minor": 2
}
